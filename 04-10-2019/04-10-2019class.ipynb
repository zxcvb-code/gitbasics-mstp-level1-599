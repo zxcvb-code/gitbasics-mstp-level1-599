{
 "cells": [
  {
   "cell_type": "markdown",
   "metadata": {},
   "source": [
    "#file modes\n",
    "*tell\n",
    "*seek\n",
    "*w+-->write and read"
   ]
  },
  {
   "cell_type": "code",
   "execution_count": null,
   "metadata": {},
   "outputs": [],
   "source": []
  },
  {
   "cell_type": "code",
   "execution_count": 26,
   "metadata": {},
   "outputs": [],
   "source": [
    "def create(file):\n",
    "    f=open(\"sukku.txt\",\"w\")\n",
    "    f.write(\"myself sukanya i am python scientic \\n i have 2 years of experience\\nmy native place allagadda \\n daughter of hanumantha reddy\")\n",
    "file=\"sukku.txt\"\n",
    "create(file)"
   ]
  },
  {
   "cell_type": "markdown",
   "metadata": {},
   "source": [
    "# number palindrome"
   ]
  },
  {
   "cell_type": "code",
   "execution_count": 24,
   "metadata": {},
   "outputs": [
    {
     "name": "stdout",
     "output_type": "stream",
     "text": [
      "121\n",
      "palindrome\n"
     ]
    }
   ],
   "source": [
    "def palindrome(n):\n",
    "    k=n\n",
    "    rev=0\n",
    "    while(n>0):\n",
    "        n1=n%10\n",
    "        rev=rev*10+n1\n",
    "        n=n//10\n",
    "    if(rev==k):\n",
    "        print(\"palindrome\")\n",
    "    else:\n",
    "        print(\"not palindrome\")\n",
    "n=int(input())\n",
    "palindrome(n)"
   ]
  },
  {
   "cell_type": "code",
   "execution_count": 43,
   "metadata": {},
   "outputs": [
    {
     "name": "stdout",
     "output_type": "stream",
     "text": [
      "15\n",
      "myself sukanya \n",
      "3\n"
     ]
    }
   ],
   "source": [
    "f=\"sukku.txt\"\n",
    "f=open(\"sukku.txt\",\"r\")\n",
    "f1=f.read(15)\n",
    "print(f.tell())\n",
    "print(f1)\n",
    "f2=f.seek(3)\n",
    "print(f2)\n",
    "f.close()"
   ]
  },
  {
   "cell_type": "code",
   "execution_count": 41,
   "metadata": {},
   "outputs": [
    {
     "data": {
      "text/plain": [
       "121"
      ]
     },
     "execution_count": 41,
     "metadata": {},
     "output_type": "execute_result"
    }
   ],
   "source": [
    "x=open(\"sukku.txt\",'r')\n",
    "x.read()\n",
    "x.tell()"
   ]
  },
  {
   "cell_type": "code",
   "execution_count": 42,
   "metadata": {},
   "outputs": [
    {
     "name": "stdout",
     "output_type": "stream",
     "text": [
      "myself sukanya i am python scientic \n",
      "i have 2 years of experience\n",
      "my native place allagadda \n",
      "daughter of hanumantha reddy\n",
      "elf sukanya i am python scientic \n",
      "i have 2 years of experience\n",
      "my native place allagadda \n",
      "daughter of hanumantha reddy\n"
     ]
    }
   ],
   "source": [
    "x=open(\"sukku.txt\",'r')\n",
    "print(x.read())\n",
    "x.seek(3)\n",
    "x.tell()\n",
    "print(x.read())"
   ]
  },
  {
   "cell_type": "code",
   "execution_count": 59,
   "metadata": {},
   "outputs": [
    {
     "name": "stdout",
     "output_type": "stream",
     "text": [
      "121\n",
      "palindrome\n"
     ]
    }
   ],
   "source": [
    "def stringpalin(n):\n",
    "    i=n[-1::-1]\n",
    "    if(n==i):\n",
    "        print(\"palindrome\")\n",
    "    else:\n",
    "        print(\"not palindrome\")\n",
    "n=input()\n",
    "stringpalin(n)\n",
    "    "
   ]
  },
  {
   "cell_type": "code",
   "execution_count": 3,
   "metadata": {},
   "outputs": [
    {
     "name": "stdout",
     "output_type": "stream",
     "text": [
      "tommot\n",
      "tommot\n",
      "palindrome\n"
     ]
    }
   ],
   "source": [
    "n=input()\n",
    "x=\"\"\n",
    "for i in n:\n",
    "    x=i+x\n",
    "print(x)\n",
    "if(x==n):   \n",
    "    print(\"palindrome\")\n",
    "else:\n",
    "    print(\"not palindrome\")"
   ]
  },
  {
   "cell_type": "code",
   "execution_count": null,
   "metadata": {},
   "outputs": [],
   "source": []
  }
 ],
 "metadata": {
  "kernelspec": {
   "display_name": "Python 3",
   "language": "python",
   "name": "python3"
  },
  "language_info": {
   "codemirror_mode": {
    "name": "ipython",
    "version": 3
   },
   "file_extension": ".py",
   "mimetype": "text/x-python",
   "name": "python",
   "nbconvert_exporter": "python",
   "pygments_lexer": "ipython3",
   "version": "3.7.3"
  }
 },
 "nbformat": 4,
 "nbformat_minor": 2
}
