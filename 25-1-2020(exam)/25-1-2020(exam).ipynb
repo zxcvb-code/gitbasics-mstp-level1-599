{
 "cells": [
  {
   "cell_type": "markdown",
   "metadata": {},
   "source": [
    "## 1.Write a pandas program to change the order of index of a given series"
   ]
  },
  {
   "cell_type": "code",
   "execution_count": 8,
   "metadata": {},
   "outputs": [
    {
     "name": "stdout",
     "output_type": "stream",
     "text": [
      "0    1\n",
      "1    2\n",
      "2    3\n",
      "3    4\n",
      "4    5\n",
      "5    6\n",
      "6    7\n",
      "dtype: int64\n",
      "a    1\n",
      "b    2\n",
      "c    3\n",
      "d    4\n",
      "e    5\n",
      "f    6\n",
      "g    7\n",
      "dtype: int64\n"
     ]
    }
   ],
   "source": [
    "import pandas as pd\n",
    "s=pd.Series([1,2,3,4,5,6,7])\n",
    "print(s)\n",
    "d=pd.Series([1,2,3,4,5,6,7],index=['a','b','c','d','e','f','g'])\n",
    "print(d)"
   ]
  },
  {
   "cell_type": "markdown",
   "metadata": {},
   "source": [
    "## 2.write a python program to add ,sub,multiple,divide to pandas series sample series=[2,4,6,8,10],[1,3,5,7,9]"
   ]
  },
  {
   "cell_type": "code",
   "execution_count": 13,
   "metadata": {},
   "outputs": [
    {
     "name": "stdout",
     "output_type": "stream",
     "text": [
      "0     3\n",
      "1     7\n",
      "2    11\n",
      "3    15\n",
      "4    19\n",
      "dtype: int64 0    1\n",
      "1    1\n",
      "2    1\n",
      "3    1\n",
      "4    1\n",
      "dtype: int64 0     2\n",
      "1    12\n",
      "2    30\n",
      "3    56\n",
      "4    90\n",
      "dtype: int64 0    2.000000\n",
      "1    1.333333\n",
      "2    1.200000\n",
      "3    1.142857\n",
      "4    1.111111\n",
      "dtype: float64\n"
     ]
    }
   ],
   "source": [
    "a=pd.Series([2,4,6,8,10])\n",
    "b=pd.Series([1,3,5,7,9])\n",
    "A=a+b\n",
    "B=a-b\n",
    "C=a*b\n",
    "D=a/b\n",
    "print(A,B,C,D)"
   ]
  },
  {
   "cell_type": "markdown",
   "metadata": {},
   "source": [
    "## 3.write a python program to convert a panda module series to python list and its type"
   ]
  },
  {
   "cell_type": "code",
   "execution_count": 21,
   "metadata": {},
   "outputs": [
    {
     "name": "stdout",
     "output_type": "stream",
     "text": [
      "0    20\n",
      "1    30\n",
      "2    40\n",
      "3    50\n",
      "4    60\n",
      "dtype: int64 <class 'pandas.core.series.Series'>\n",
      "[20, 30, 40, 50, 60] <class 'list'>\n"
     ]
    }
   ],
   "source": [
    "x=pd.Series([20,30,40,50,60])\n",
    "print(x,type(x))\n",
    "l=list(x)\n",
    "print(l,type(l))"
   ]
  },
  {
   "cell_type": "markdown",
   "metadata": {},
   "source": [
    "## 4.write a pandas program to select the rows where the score is missing(NaN)"
   ]
  },
  {
   "cell_type": "code",
   "execution_count": 32,
   "metadata": {},
   "outputs": [
    {
     "name": "stdout",
     "output_type": "stream",
     "text": [
      "     name  score  attempts qualify\n",
      "a  sachin    NaN         1      no\n",
      "c   kohli    NaN         5      no\n"
     ]
    }
   ],
   "source": [
    "import numpy as np\n",
    "cri={'name':['sachin','ganguly','kohli','virat','dhoni'],'score':[np.nan,3,np.nan,9.8,4],'attempts':[1,3,5,6,8],'qualify':[\"no\",\"yes\",\"no\",\"yes\",\"yes\"]}\n",
    "labels=['a','b','c','d','e']\n",
    "d=pd.DataFrame(cri,index=labels)\n",
    "print(d[d['score'].isnull()])"
   ]
  },
  {
   "cell_type": "markdown",
   "metadata": {},
   "source": [
    "## 5.write a numpy program to create a 3*3 matrix with values ranging from 2 to 10"
   ]
  },
  {
   "cell_type": "code",
   "execution_count": 37,
   "metadata": {},
   "outputs": [
    {
     "data": {
      "text/plain": [
       "array([[ 2,  3,  4],\n",
       "       [ 5,  6,  7],\n",
       "       [ 8,  9, 10]])"
      ]
     },
     "execution_count": 37,
     "metadata": {},
     "output_type": "execute_result"
    }
   ],
   "source": [
    "z=np.arange(2,11).reshape(3,3)\n",
    "z"
   ]
  },
  {
   "cell_type": "markdown",
   "metadata": {},
   "source": [
    "## 6.Illustrate the difference between ravel and flatten by taking considering multidimnensional array"
   ]
  },
  {
   "cell_type": "code",
   "execution_count": 72,
   "metadata": {},
   "outputs": [
    {
     "name": "stdout",
     "output_type": "stream",
     "text": [
      "[1 2 3 4 5 6 7 8]\n",
      "[2 3 4 5 6 7 8 9]\n"
     ]
    }
   ],
   "source": [
    "x=np.arange(2,10).reshape(2,4)\n",
    "y=np.arange(1,9).reshape(2,4)\n",
    "print(y.ravel())                               # both ravel() and flatten() can convert 2-D to 1-D\n",
    "print(x.flatten())                         "
   ]
  },
  {
   "cell_type": "markdown",
   "metadata": {},
   "source": [
    "## 7. create a 3*3 numpy array .find out the minimum,maximum values and also their indicies accordingly fore each axes.also find out tha statistical methods such as standard deviation,cumulative sum and product"
   ]
  },
  {
   "cell_type": "code",
   "execution_count": 87,
   "metadata": {},
   "outputs": [
    {
     "name": "stdout",
     "output_type": "stream",
     "text": [
      "1\n",
      "9\n",
      "[ 1  3  6 10 15 21 28 36 45]\n",
      "[     1      2      6     24    120    720   5040  40320 362880]\n",
      "2.581988897471611\n"
     ]
    }
   ],
   "source": [
    "data=np.arange(1,10).reshape(3,3)\n",
    "print(data.min())\n",
    "print(data.max())\n",
    "print(data.cumsum())\n",
    "print(data.cumprod())\n",
    "print(data.std())"
   ]
  },
  {
   "cell_type": "markdown",
   "metadata": {},
   "source": [
    "## 8.create a dataframe with some null values find out info and describe and sum of null values"
   ]
  },
  {
   "cell_type": "code",
   "execution_count": 92,
   "metadata": {},
   "outputs": [
    {
     "name": "stdout",
     "output_type": "stream",
     "text": [
      "<class 'pandas.core.frame.DataFrame'>\n",
      "RangeIndex: 4 entries, 0 to 3\n",
      "Data columns (total 3 columns):\n",
      "name      4 non-null object\n",
      "rollno    3 non-null object\n",
      "branch    3 non-null object\n",
      "dtypes: object(3)\n",
      "memory usage: 176.0+ bytes\n",
      "None\n",
      "        name rollno branch\n",
      "count      4      3      3\n",
      "unique     4      3      3\n",
      "top     monu    508   mech\n",
      "freq       1      1      1\n",
      "name      0\n",
      "rollno    1\n",
      "branch    1\n",
      "dtype: int64\n"
     ]
    }
   ],
   "source": [
    "df= pd.DataFrame({'name':['janu','monu','gai','sai'],\n",
    "                     'rollno':['502',np.nan,'506','508'],\n",
    "                     'branch':['mech','cse',np.nan,'civil']})\n",
    "print(df.info())\n",
    "print(df.describe())\n",
    "print(df.isnull().sum())"
   ]
  },
  {
   "cell_type": "markdown",
   "metadata": {},
   "source": [
    "## 9.write a pandas program to get the first 3 rows and last 2 rows of a given dfataframe"
   ]
  },
  {
   "cell_type": "code",
   "execution_count": 108,
   "metadata": {},
   "outputs": [
    {
     "name": "stdout",
     "output_type": "stream",
     "text": [
      "   marks  ranks\n",
      "0     23      4\n",
      "1     45      3\n",
      "2     67      2\n",
      "   marks  ranks\n",
      "6     76      6\n",
      "7     89      8\n"
     ]
    }
   ],
   "source": [
    "ss=pd.DataFrame({'marks':[23,45,67,44,67,54,76,89],\n",
    "                'ranks':[4,3,2,5,7,4,6,8],})\n",
    "print(ss.head(3))\n",
    "print(ss.tail(2))"
   ]
  },
  {
   "cell_type": "code",
   "execution_count": null,
   "metadata": {},
   "outputs": [],
   "source": []
  }
 ],
 "metadata": {
  "kernelspec": {
   "display_name": "Python 3",
   "language": "python",
   "name": "python3"
  },
  "language_info": {
   "codemirror_mode": {
    "name": "ipython",
    "version": 3
   },
   "file_extension": ".py",
   "mimetype": "text/x-python",
   "name": "python",
   "nbconvert_exporter": "python",
   "pygments_lexer": "ipython3",
   "version": "3.7.3"
  }
 },
 "nbformat": 4,
 "nbformat_minor": 2
}
