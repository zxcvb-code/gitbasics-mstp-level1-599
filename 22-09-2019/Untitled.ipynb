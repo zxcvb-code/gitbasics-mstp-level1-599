{
 "cells": [
  {
   "cell_type": "markdown",
   "metadata": {},
   "source": [
    "## accept the first and last name and print them in reverse order with a space between them"
   ]
  },
  {
   "cell_type": "code",
   "execution_count": 1,
   "metadata": {},
   "outputs": [
    {
     "name": "stdout",
     "output_type": "stream",
     "text": [
      "enter the first namesukku\n",
      "enter the second namechitti\n",
      "ukkus ittihc\n"
     ]
    }
   ],
   "source": [
    "first=input(\"enter the first name\")\n",
    "second=input(\"enter the second name\")\n",
    "print(first[::-1]+' '+second[::-1])"
   ]
  },
  {
   "cell_type": "markdown",
   "metadata": {},
   "source": [
    "## Accept a file name from the user and print the extension of that"
   ]
  },
  {
   "cell_type": "code",
   "execution_count": 4,
   "metadata": {},
   "outputs": [
    {
     "name": "stdout",
     "output_type": "stream",
     "text": [
      "enter the file namechitti.java\n",
      "java\n"
     ]
    }
   ],
   "source": [
    "f=input(\"enter the file name\")\n",
    "print(f[-4::1])"
   ]
  },
  {
   "cell_type": "markdown",
   "metadata": {},
   "source": [
    "## Accept an integer (n) and computes the value of n+nn+nnn"
   ]
  },
  {
   "cell_type": "code",
   "execution_count": 9,
   "metadata": {},
   "outputs": [
    {
     "name": "stdout",
     "output_type": "stream",
     "text": [
      "enter a number n5\n",
      "615\n"
     ]
    }
   ],
   "source": [
    "i=int(input(\"enter a number n\"))\n",
    "n=str(i)\n",
    "t1=n+n\n",
    "t2=n+n+n\n",
    "total=i+int(t1)+int(t2)\n",
    "print(total)"
   ]
  },
  {
   "cell_type": "markdown",
   "metadata": {},
   "source": [
    "## To get a single string from 2 given strings,seperated by a space and swap the first two characters of each string"
   ]
  },
  {
   "cell_type": "code",
   "execution_count": 10,
   "metadata": {},
   "outputs": [
    {
     "name": "stdout",
     "output_type": "stream",
     "text": [
      "enter the first stringabc\n",
      "enter the second stringxyz\n",
      "xycabz\n"
     ]
    }
   ],
   "source": [
    "a=input(\"enter the first string\")\n",
    "b=input(\"enter the second string\")\n",
    "x=a[:2]\n",
    "x1=a[2:]\n",
    "y=b[:2]\n",
    "y1=b[2:]\n",
    "print(y+x1+\" \"+x+y1)"
   ]
  },
  {
   "cell_type": "code",
   "execution_count": 24,
   "metadata": {},
   "outputs": [
    {
     "name": "stdout",
     "output_type": "stream",
     "text": [
      "enter the stringBINDU\n",
      "enter the stringSUKKU\n",
      "bindu sukku\n",
      "BINDU SUKKU\n"
     ]
    }
   ],
   "source": [
    "a=input(\"enter the string\")\n",
    "b=input(\"enter the string\")\n",
    "print(a.lower(),b.lower())\n",
    "print(a.upper(),b.upper())\n"
   ]
  },
  {
   "cell_type": "markdown",
   "metadata": {},
   "source": [
    "## Write a python program to lowercase first n charecters in a string"
   ]
  },
  {
   "cell_type": "code",
   "execution_count": 12,
   "metadata": {},
   "outputs": [
    {
     "name": "stdout",
     "output_type": "stream",
     "text": [
      "enter the stringSUKANYA\n",
      "enter the number4\n",
      "sukaNYA\n"
     ]
    }
   ],
   "source": [
    "a=input(\"enter the string\")\n",
    "b=int(input(\"enter the number\"))\n",
    "print(a[0:b].lower()+a[b:])"
   ]
  },
  {
   "cell_type": "code",
   "execution_count": null,
   "metadata": {},
   "outputs": [],
   "source": []
  }
 ],
 "metadata": {
  "kernelspec": {
   "display_name": "Python 3",
   "language": "python",
   "name": "python3"
  },
  "language_info": {
   "codemirror_mode": {
    "name": "ipython",
    "version": 3
   },
   "file_extension": ".py",
   "mimetype": "text/x-python",
   "name": "python",
   "nbconvert_exporter": "python",
   "pygments_lexer": "ipython3",
   "version": "3.7.3"
  }
 },
 "nbformat": 4,
 "nbformat_minor": 2
}
