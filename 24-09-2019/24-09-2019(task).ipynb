{
 "cells": [
  {
   "cell_type": "markdown",
   "metadata": {},
   "source": [
    "# Check if the number exist in a given range(input:number(n)),range(lower number and upper number)"
   ]
  },
  {
   "cell_type": "code",
   "execution_count": 2,
   "metadata": {},
   "outputs": [
    {
     "name": "stdout",
     "output_type": "stream",
     "text": [
      "100\n",
      "200\n",
      "300\n",
      "a is not exist in the range\n"
     ]
    }
   ],
   "source": [
    "def lnun(lb,ub,a):\n",
    "    if (lb<a<ub):\n",
    "        print(\"a is exits in the given range\")\n",
    "    else:\n",
    "        print(\"a is not exist in the range\")\n",
    "lb=int(input())\n",
    "ub=int(input())\n",
    "a=int(input())\n",
    "lnun(lb,ub,a)"
   ]
  },
  {
   "cell_type": "markdown",
   "metadata": {},
   "source": [
    "# check the number of digits in a given number "
   ]
  },
  {
   "cell_type": "code",
   "execution_count": 4,
   "metadata": {},
   "outputs": [
    {
     "name": "stdout",
     "output_type": "stream",
     "text": [
      "1234\n",
      "4\n"
     ]
    }
   ],
   "source": [
    "def digits(n):\n",
    "    c=0\n",
    "    while(n>0):\n",
    "        n=n//10 # 1234//10=4-123//10=3\n",
    "        c=c+1\n",
    "    print(c) # return c\n",
    "n=int(input())\n",
    "digits(n)"
   ]
  },
  {
   "cell_type": "markdown",
   "metadata": {},
   "source": [
    "# check if the given number is the factor of 1000"
   ]
  },
  {
   "cell_type": "code",
   "execution_count": null,
   "metadata": {},
   "outputs": [],
   "source": [
    "def factor(n,m):\n",
    "    for i in range(1,n+1):\n",
    "        if (n%i==0)&(i==m):#\n",
    "            print(\"given number is factor of 1000:\",int(m))\n",
    "        else:\n",
    "            print(\"given number is not a factor of n\")\n",
    "            break\n",
    "n=int(input())\n",
    "m=int(input())\n",
    "factor(n,m)"
   ]
  },
  {
   "cell_type": "markdown",
   "metadata": {},
   "source": [
    "# calculate square root of a given number"
   ]
  },
  {
   "cell_type": "code",
   "execution_count": 11,
   "metadata": {},
   "outputs": [
    {
     "name": "stdout",
     "output_type": "stream",
     "text": [
      "2.0\n"
     ]
    }
   ],
   "source": [
    "def square(n):\n",
    "    sqrt=n**0.5\n",
    "    print(sqrt)\n",
    "square(4)"
   ]
  },
  {
   "cell_type": "markdown",
   "metadata": {},
   "source": [
    "# python program to take the value of length,breadth,width 0f a rectangle from user and check if it is square or not"
   ]
  },
  {
   "cell_type": "code",
   "execution_count": 14,
   "metadata": {},
   "outputs": [
    {
     "name": "stdout",
     "output_type": "stream",
     "text": [
      "5\n",
      "5\n",
      "5\n",
      "it is square\n"
     ]
    }
   ],
   "source": [
    "def rectangle(len,bre,wid):\n",
    "    if (len==bre)&(bre==wid):\n",
    "        print(\"it is square\")\n",
    "    else:\n",
    "        print(\"it is rectangle\")\n",
    "len=int(input())\n",
    "bre=int(input())\n",
    "wid=int(input())\n",
    "rectangle(len,bre,wid)"
   ]
  },
  {
   "cell_type": "code",
   "execution_count": null,
   "metadata": {},
   "outputs": [],
   "source": [
    "# A school has following rules for grading system\n",
    "1.above 80 -A\n",
    "2.60-80 -B\n",
    "3.50-60 -C\n",
    "4.45-50 -D\n",
    "5.25-45 -E\n",
    "6.Below 25 -F"
   ]
  },
  {
   "cell_type": "code",
   "execution_count": 20,
   "metadata": {},
   "outputs": [
    {
     "name": "stdout",
     "output_type": "stream",
     "text": [
      "60\n",
      "B\n"
     ]
    }
   ],
   "source": [
    "def school(n):\n",
    "    if (n<25):\n",
    "        print(\"F\")\n",
    "    elif(n<=25&n<45):\n",
    "        print(\"E\")\n",
    "    elif(n<=45&n<50):\n",
    "        print(\"D\")\n",
    "    elif(n<=50&n<60):\n",
    "        print(\"C\")\n",
    "    elif(n<=60&n<=80):\n",
    "        print(\"B\")\n",
    "    else:\n",
    "        print(\"A\")\n",
    "n=int(input())\n",
    "school(n)\n",
    "        "
   ]
  },
  {
   "cell_type": "markdown",
   "metadata": {},
   "source": [
    "## Take input of age of 3 people by user and determine oldest and youngest among them"
   ]
  },
  {
   "cell_type": "code",
   "execution_count": 4,
   "metadata": {},
   "outputs": [
    {
     "name": "stdout",
     "output_type": "stream",
     "text": [
      "10\n",
      "40\n",
      "20\n",
      "oldage 40\n",
      "youngage 10\n"
     ]
    }
   ],
   "source": [
    "def age(a1,a2,a3):\n",
    "    if a1>a2 and a1>a3:\n",
    "        oldage=a1\n",
    "    elif a2>a3 and a2>a1:\n",
    "        oldage=a2\n",
    "    else:\n",
    "        oldage=a3\n",
    "    print(\"oldage\",oldage)\n",
    "    if a1<a2 and a1<a2:\n",
    "        youngage=a1\n",
    "    elif a2<a3 and a2<a1:\n",
    "        youngage=a2\n",
    "    else:\n",
    "        youngage=a3\n",
    "    print(\"youngage\",youngage)\n",
    "a1=int(input())\n",
    "a2=int(input())\n",
    "a3=int(input())\n",
    "age(a1,a2,a3)\n",
    "\n",
    "    "
   ]
  },
  {
   "cell_type": "code",
   "execution_count": null,
   "metadata": {},
   "outputs": [],
   "source": [
    "# A student will not be allowed to sit in exam if his\\her attendence is lessthan 75 percent \n",
    "1. Take following input from user number of classes held number of classes attended\n",
    "2. And print percentage of class attented is student is allowed sit in a class or not"
   ]
  },
  {
   "cell_type": "code",
   "execution_count": 8,
   "metadata": {},
   "outputs": [
    {
     "name": "stdout",
     "output_type": "stream",
     "text": [
      "80\n",
      "40\n",
      "he is not eligible to class\n"
     ]
    }
   ],
   "source": [
    "def student(c,sh):\n",
    "    i=(sh/c)*100\n",
    "    if i>75:\n",
    "        print(\"he is eligible to class\")\n",
    "    else:\n",
    "        print(\"he is not eligible to class\")\n",
    "c=int(input())\n",
    "sh=int(input())\n",
    "student(c,sh)\n",
    "    "
   ]
  },
  {
   "cell_type": "code",
   "execution_count": null,
   "metadata": {},
   "outputs": [],
   "source": []
  }
 ],
 "metadata": {
  "kernelspec": {
   "display_name": "Python 3",
   "language": "python",
   "name": "python3"
  },
  "language_info": {
   "codemirror_mode": {
    "name": "ipython",
    "version": 3
   },
   "file_extension": ".py",
   "mimetype": "text/x-python",
   "name": "python",
   "nbconvert_exporter": "python",
   "pygments_lexer": "ipython3",
   "version": "3.7.3"
  }
 },
 "nbformat": 4,
 "nbformat_minor": 2
}
