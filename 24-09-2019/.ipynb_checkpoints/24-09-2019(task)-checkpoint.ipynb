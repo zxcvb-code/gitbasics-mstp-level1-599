{
 "cells": [
  {
   "cell_type": "markdown",
   "metadata": {},
   "source": [
    "# Check if the number exist in a given range(input:number(n)),range(lower number and upper number)"
   ]
  },
  {
   "cell_type": "code",
   "execution_count": null,
   "metadata": {},
   "outputs": [],
   "source": [
    "def lnun(lb,ub,r):\n",
    "    "
   ]
  },
  {
   "cell_type": "markdown",
   "metadata": {},
   "source": [
    "# check the number of digits in a given number "
   ]
  },
  {
   "cell_type": "code",
   "execution_count": 4,
   "metadata": {},
   "outputs": [
    {
     "name": "stdout",
     "output_type": "stream",
     "text": [
      "1234\n",
      "4\n"
     ]
    }
   ],
   "source": [
    "def digits(n):\n",
    "    c=0\n",
    "    while(n>0):\n",
    "        n=n//10 # 1234//10=4-123//10=3\n",
    "        c=c+1\n",
    "    print(c) # return c\n",
    "n=int(input())\n",
    "digits(n)"
   ]
  },
  {
   "cell_type": "markdown",
   "metadata": {},
   "source": [
    "# check if the given number is the factor of 1000"
   ]
  },
  {
   "cell_type": "code",
   "execution_count": 8,
   "metadata": {},
   "outputs": [
    {
     "name": "stdout",
     "output_type": "stream",
     "text": [
      "1000\n",
      "3\n",
      "given number is not a factor of n\n"
     ]
    }
   ],
   "source": [
    "def factor(n,m):\n",
    "    for i in range(1,n+1):\n",
    "        if (n%i==0)&(i==m):\n",
    "            print(\"given number is factor of 1000:\",int(m))\n",
    "        else:\n",
    "            print(\"given number is not a factor of n\")\n",
    "            break\n",
    "n=int(input())\n",
    "m=int(input())\n",
    "factor(n,m)"
   ]
  },
  {
   "cell_type": "markdown",
   "metadata": {},
   "source": [
    "# calculate square root of a given number"
   ]
  },
  {
   "cell_type": "code",
   "execution_count": 11,
   "metadata": {},
   "outputs": [
    {
     "name": "stdout",
     "output_type": "stream",
     "text": [
      "2.0\n"
     ]
    }
   ],
   "source": [
    "def square(n):\n",
    "    sqrt=n**0.5\n",
    "    print(sqrt)\n",
    "square(4)"
   ]
  },
  {
   "cell_type": "markdown",
   "metadata": {},
   "source": [
    "# python program to take the value of length,breadth,width 0f a rectangle from user and check if it is square or not"
   ]
  },
  {
   "cell_type": "code",
   "execution_count": 14,
   "metadata": {},
   "outputs": [
    {
     "name": "stdout",
     "output_type": "stream",
     "text": [
      "5\n",
      "5\n",
      "5\n",
      "it is square\n"
     ]
    }
   ],
   "source": [
    "def rectangle(len,bre,wid):\n",
    "    if (len==bre)&(bre==wid):\n",
    "        print(\"it is square\")\n",
    "    else:\n",
    "        print(\"it is rectangle\")\n",
    "len=int(input())\n",
    "bre=int(input())\n",
    "wid=int(input())\n",
    "rectangle(len,bre,wid)"
   ]
  },
  {
   "cell_type": "code",
   "execution_count": null,
   "metadata": {},
   "outputs": [],
   "source": [
    "# A school has following rules for grading system\n",
    "1.above 80 -A\n",
    "2.60-80 -B\n",
    "3.50-60 -C\n",
    "4.45-50 -D\n",
    "5.25-45 -E\n",
    "6.Below 25 -F"
   ]
  },
  {
   "cell_type": "code",
   "execution_count": 20,
   "metadata": {},
   "outputs": [
    {
     "name": "stdout",
     "output_type": "stream",
     "text": [
      "60\n",
      "B\n"
     ]
    }
   ],
   "source": [
    "def school(n):\n",
    "    if (n<25):\n",
    "        print(\"F\")\n",
    "    elif(n<=25&n<45):\n",
    "        print(\"E\")\n",
    "    elif(n<=45&n<50):\n",
    "        print(\"D\")\n",
    "    elif(n<=50&n<60):\n",
    "        print(\"C\")\n",
    "    elif(n<=60&n<=80):\n",
    "        print(\"B\")\n",
    "    else:\n",
    "        print(\"A\")\n",
    "n=int(input())\n",
    "school(n)\n",
    "        "
   ]
  },
  {
   "cell_type": "markdown",
   "metadata": {},
   "source": [
    "## Take input of age of 3 people by user and determine oldest and youngest among them"
   ]
  },
  {
   "cell_type": "code",
   "execution_count": 21,
   "metadata": {},
   "outputs": [
    {
     "name": "stdout",
     "output_type": "stream",
     "text": [
      "1\n"
     ]
    },
    {
     "ename": "TypeError",
     "evalue": "cannot unpack non-iterable int object",
     "output_type": "error",
     "traceback": [
      "\u001b[1;31m---------------------------------------------------------------------------\u001b[0m",
      "\u001b[1;31mTypeError\u001b[0m                                 Traceback (most recent call last)",
      "\u001b[1;32m<ipython-input-21-b744027cfcfc>\u001b[0m in \u001b[0;36m<module>\u001b[1;34m\u001b[0m\n\u001b[1;32m----> 1\u001b[1;33m \u001b[0ma\u001b[0m\u001b[1;33m,\u001b[0m\u001b[0mb\u001b[0m\u001b[1;33m,\u001b[0m\u001b[0mc\u001b[0m\u001b[1;33m=\u001b[0m\u001b[0mint\u001b[0m\u001b[1;33m(\u001b[0m\u001b[0minput\u001b[0m\u001b[1;33m(\u001b[0m\u001b[1;33m)\u001b[0m\u001b[1;33m)\u001b[0m\u001b[1;33m\u001b[0m\u001b[1;33m\u001b[0m\u001b[0m\n\u001b[0m\u001b[0;32m      2\u001b[0m \u001b[1;33m\u001b[0m\u001b[0m\n",
      "\u001b[1;31mTypeError\u001b[0m: cannot unpack non-iterable int object"
     ]
    }
   ],
   "source": [
    "    "
   ]
  },
  {
   "cell_type": "code",
   "execution_count": null,
   "metadata": {},
   "outputs": [],
   "source": [
    "# A student will not be allowed to sit in exam if his\\her attendence is lessthan 75 percent \n",
    "1. Take following input from user number of classes held number of classes attended\n",
    "2. And print percentage of class attented is student is allowed sit in a class or not"
   ]
  }
 ],
 "metadata": {
  "kernelspec": {
   "display_name": "Python 3",
   "language": "python",
   "name": "python3"
  },
  "language_info": {
   "codemirror_mode": {
    "name": "ipython",
    "version": 3
   },
   "file_extension": ".py",
   "mimetype": "text/x-python",
   "name": "python",
   "nbconvert_exporter": "python",
   "pygments_lexer": "ipython3",
   "version": "3.7.3"
  }
 },
 "nbformat": 4,
 "nbformat_minor": 2
}
