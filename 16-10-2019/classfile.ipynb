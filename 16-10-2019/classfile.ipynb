{
 "cells": [
  {
   "cell_type": "markdown",
   "metadata": {},
   "source": [
    "# handling csv files"
   ]
  },
  {
   "cell_type": "code",
   "execution_count": 2,
   "metadata": {},
   "outputs": [],
   "source": [
    "file=\"csv.txt\"\n",
    "def name(file):\n",
    "    with open (file,'w') as f:\n",
    "        f.write(\"kvsw\"+\",\"+\"kvsr\"+\",\"+\"kvsm\")\n",
    "        name(file)"
   ]
  },
  {
   "cell_type": "code",
   "execution_count": 10,
   "metadata": {},
   "outputs": [],
   "source": [
    "file=\"contacts.txt\"\n",
    "with open (file,'a')as f:\n",
    "    f.write(\"kvswsukanya\"+\",\"+\"8309985678\"+\",\"+\"kvsmkrishna@gmail.com\")\n",
    "    f.write(\"\\n\"+\"bindu\"+\",\"+\"8366685678\"+\",\"+\"kvsmadhu@gmail.com\")\n",
    "    "
   ]
  },
  {
   "cell_type": "markdown",
   "metadata": {},
   "source": [
    "# converting csvfile to listfile"
   ]
  },
  {
   "cell_type": "code",
   "execution_count": 13,
   "metadata": {},
   "outputs": [
    {
     "data": {
      "text/plain": [
       "[['kvswsukanya', '8309985678', 'kvsmkrishna@gmail.com\\n'],\n",
       " ['bindu',\n",
       "  '8366685678',\n",
       "  'kvsmadhu@gmail.comkvswsukanya',\n",
       "  '8309985678',\n",
       "  'kvsmkrishna@gmail.com\\n'],\n",
       " ['bindu', '8366685678', 'kvsmadhu@gmail.com']]"
      ]
     },
     "execution_count": 13,
     "metadata": {},
     "output_type": "execute_result"
    }
   ],
   "source": [
    "file=\"contacts.txt\"\n",
    "def csvtolist(file):\n",
    "    l=[]\n",
    "    with open(file,'r')as f:\n",
    "        for line in f:\n",
    "            l.append(line.split(\",\"))\n",
    "    return l\n",
    "csvtolist(file)"
   ]
  },
  {
   "cell_type": "code",
   "execution_count": 14,
   "metadata": {},
   "outputs": [
    {
     "name": "stdout",
     "output_type": "stream",
     "text": [
      "kvswsukanya,8309985678,kvsmkrishna@gmail.com\n",
      "bindu,8366685678,kvsmadhu@gmail.comkvswsukanya,8309985678,kvsmkrishna@gmail.com\n",
      "bindu,8366685678,kvsmadhu@gmail.com\n"
     ]
    }
   ],
   "source": [
    "file=\"contacts.txt\"\n",
    "def csvtolist(file):\n",
    "    l=[]\n",
    "    with open(file,'r')as f:\n",
    "        for line in f:\n",
    "            l.append(line.split(\",\"))\n",
    "    return l\n",
    "csvtolist(file)\n",
    "def listtocsv(file):\n",
    "    d=csvtolist(file)\n",
    "    s=\"\"\n",
    "    for i in d:\n",
    "        s+=\",\".join(i)\n",
    "    print(s)\n",
    "listtocsv(file)"
   ]
  },
  {
   "cell_type": "code",
   "execution_count": 15,
   "metadata": {},
   "outputs": [
    {
     "data": {
      "text/plain": [
       "1"
      ]
     },
     "execution_count": 15,
     "metadata": {},
     "output_type": "execute_result"
    }
   ],
   "source": [
    "import re# phonenumber validation\n",
    "def phoneno(num):\n",
    "    pattern='[+][9][1][6789][0-9]{9}$|^[0][6-9][0-9]{9}$|^[6-9][0-9]{9}$'\n",
    "    if re.match(pattern,num):\n",
    "        return 1\n",
    "    else:\n",
    "        return 0\n",
    "phoneno(\"8976543298\")\n",
    "phoneno(\"+919987432156\")\n",
    "phoneno(\"09879543267\")"
   ]
  },
  {
   "cell_type": "code",
   "execution_count": 16,
   "metadata": {},
   "outputs": [
    {
     "data": {
      "text/plain": [
       "1"
      ]
     },
     "execution_count": 16,
     "metadata": {},
     "output_type": "execute_result"
    }
   ],
   "source": [
    "#([a-z]|[0-9]|[A-Z])([a-z]|[0-9]|[A-Z]|[_]){6,14}([0-9]|[a-z])[@][a-z]{2,10}[.][a-z]{2,4}$\n",
    "import re# email validation\n",
    "def email(mail):\n",
    "    pattern='^([a-z]|[0-9]|[A-Z])([a-z]|[0-9]|[A-Z]|[_]){6,14}([0-9]|[a-z])[@][a-z]{2,10}[.][a-z]{2,4}$'\n",
    "    if re.match(pattern,mail):\n",
    "        return 1\n",
    "    else:\n",
    "        return 0\n",
    "email(\"sukanya5499@gmail.com\")"
   ]
  },
  {
   "cell_type": "code",
   "execution_count": 35,
   "metadata": {},
   "outputs": [
    {
     "name": "stdout",
     "output_type": "stream",
     "text": [
      "contact added successfully\n"
     ]
    }
   ],
   "source": [
    "import re #search contact\n",
    "def phoneno(num):\n",
    "    pattern='[+][9][1][6789][0-9]{9}$|^[0][6-9][0-9]{9}$|^[6-9][0-9]{9}$'\n",
    "    if re.match(pattern,num):\n",
    "        return 1\n",
    "    else:\n",
    "        return 0\n",
    "def email(mail):\n",
    "    pattern='^([a-z]|[0-9]|[A-Z])([a-z]|[0-9]|[A-Z]|[_]){6,}([0-9]|[a-z])[@][a-z]{2,10}[.][a-z]{2,4}$'\n",
    "    if re.match(pattern,mail):\n",
    "        return 1\n",
    "    else:\n",
    "        return 0\n",
    "def searchcontact(name,file):\n",
    "    s=csvtolist(file)\n",
    "    for i in s:\n",
    "        if i[0]==name:\n",
    "            return 1\n",
    "        else:\n",
    "            return 0\n",
    "searchcontact(\"name\",\"contacts.txt\")\n",
    "def addcontact(name,num,mail,file):\n",
    "    if searchcontact(name,file)==0:\n",
    "        if phoneno(num)==1:\n",
    "            #print(\"validation success\")\n",
    "            if email(mail)==1:\n",
    "                #print(\"valid success\")\n",
    "                with open(file,'a') as f:\n",
    "                    f.write(name+\",\"+num+\",\"+mail+\"\\n\")\n",
    "                    print(\"contact added successfully\")\n",
    "    else:\n",
    "        print(\"contact already exists\")\n",
    "addcontact(\"gayathri\",\"8464052803\",\"lekireddygayathri76@gmail.com\",\"contacts.txt\")"
   ]
  },
  {
   "cell_type": "markdown",
   "metadata": {},
   "source": [
    "# remove contact"
   ]
  },
  {
   "cell_type": "code",
   "execution_count": null,
   "metadata": {},
   "outputs": [],
   "source": [
    "import re\n",
    "def phoneno(num):\n",
    "    pattern='[+][9][1][6789][0-9]{9}$|^[0][6-9][0-9]{9}$|^[6-9][0-9]{9}$'\n",
    "    if re.match(pattern,num):\n",
    "        return 1\n",
    "    else:\n",
    "        return 0\n",
    "def email(mail):\n",
    "    pattern='^([a-z]|[0-9]|[A-Z])([a-z]|[0-9]|[A-Z]|[_]){6,}([0-9]|[a-z])[@][a-z]{2,10}[.][a-z]{2,4}$'\n",
    "    if re.match(pattern,mail):\n",
    "        return 1\n",
    "    else:\n",
    "        return 0"
   ]
  },
  {
   "cell_type": "markdown",
   "metadata": {},
   "source": [
    "# functional programming"
   ]
  },
  {
   "cell_type": "code",
   "execution_count": 36,
   "metadata": {},
   "outputs": [],
   "source": [
    "#ex: procedure--c\n",
    "# scrpting--php,python,java,shell"
   ]
  },
  {
   "cell_type": "markdown",
   "metadata": {},
   "source": [
    "# list or dictionaries or tuples or sets comprehension"
   ]
  },
  {
   "cell_type": "code",
   "execution_count": 40,
   "metadata": {},
   "outputs": [
    {
     "name": "stdout",
     "output_type": "stream",
     "text": [
      "10\n",
      "1 2 3 4 5 6 7 8 9 10 "
     ]
    }
   ],
   "source": [
    "# print n natural numbers\n",
    "n=int(input())\n",
    "for i in range(1,n+1):\n",
    "    print(i,end=\" \")"
   ]
  },
  {
   "cell_type": "markdown",
   "metadata": {},
   "source": [
    "# list comprehension technics"
   ]
  },
  {
   "cell_type": "code",
   "execution_count": null,
   "metadata": {},
   "outputs": [],
   "source": [
    "syntax---->\n",
    "==>expression for list in item conditions,,here we can use the only space"
   ]
  },
  {
   "cell_type": "code",
   "execution_count": 41,
   "metadata": {},
   "outputs": [
    {
     "name": "stdout",
     "output_type": "stream",
     "text": [
      "10\n"
     ]
    },
    {
     "data": {
      "text/plain": [
       "[1, 2, 3, 4, 5, 6, 7, 8, 9, 10]"
      ]
     },
     "execution_count": 41,
     "metadata": {},
     "output_type": "execute_result"
    }
   ],
   "source": [
    "n=int(input())\n",
    "suku=[i for i in range(1,n+1)]\n",
    "suku"
   ]
  },
  {
   "cell_type": "code",
   "execution_count": 43,
   "metadata": {},
   "outputs": [
    {
     "name": "stdout",
     "output_type": "stream",
     "text": [
      "<class 'str'>\n",
      "a p s s d c "
     ]
    }
   ],
   "source": [
    "x=\"apssdc\"\n",
    "print(type(x))\n",
    "for i in x:\n",
    "    print(i,end=\" \")"
   ]
  },
  {
   "cell_type": "code",
   "execution_count": 44,
   "metadata": {},
   "outputs": [
    {
     "data": {
      "text/plain": [
       "['a', 'p', 's', 's', 'd', 'c']"
      ]
     },
     "execution_count": 44,
     "metadata": {},
     "output_type": "execute_result"
    }
   ],
   "source": [
    "l=[s for s in x]\n",
    "l"
   ]
  },
  {
   "cell_type": "code",
   "execution_count": 53,
   "metadata": {},
   "outputs": [
    {
     "data": {
      "text/plain": [
       "'GOOGLE.COM'"
      ]
     },
     "execution_count": 53,
     "metadata": {},
     "output_type": "execute_result"
    }
   ],
   "source": [
    "s=\"google.com\"\n",
    "a=s.upper()\n",
    "a"
   ]
  },
  {
   "cell_type": "code",
   "execution_count": 65,
   "metadata": {},
   "outputs": [
    {
     "data": {
      "text/plain": [
       "['G', 'O', 'O', 'G', 'L', 'E', '.', 'C', 'O', 'M']"
      ]
     },
     "execution_count": 65,
     "metadata": {},
     "output_type": "execute_result"
    }
   ],
   "source": [
    "f=[i.upper() for i in a]\n",
    "f"
   ]
  },
  {
   "cell_type": "code",
   "execution_count": 66,
   "metadata": {},
   "outputs": [
    {
     "name": "stdout",
     "output_type": "stream",
     "text": [
      "1 2 3 "
     ]
    }
   ],
   "source": [
    "x=\"123abcef\"\n",
    "for i in x:\n",
    "    if i.isdigit():\n",
    "        print(i,end=\" \")"
   ]
  },
  {
   "cell_type": "code",
   "execution_count": 67,
   "metadata": {},
   "outputs": [
    {
     "name": "stdout",
     "output_type": "stream",
     "text": [
      "['1', '2', '3']\n"
     ]
    }
   ],
   "source": [
    "ls=[n for n in x if n.isdigit()]\n",
    "print(ls)"
   ]
  },
  {
   "cell_type": "markdown",
   "metadata": {},
   "source": [
    "# print first 10 number sqrt values in a list"
   ]
  },
  {
   "cell_type": "code",
   "execution_count": 49,
   "metadata": {},
   "outputs": [
    {
     "name": "stdout",
     "output_type": "stream",
     "text": [
      "10\n"
     ]
    },
    {
     "data": {
      "text/plain": [
       "[1.0,\n",
       " 1.4142135623730951,\n",
       " 1.7320508075688772,\n",
       " 2.0,\n",
       " 2.23606797749979,\n",
       " 2.449489742783178,\n",
       " 2.6457513110645907,\n",
       " 2.8284271247461903,\n",
       " 3.0,\n",
       " 3.1622776601683795]"
      ]
     },
     "execution_count": 49,
     "metadata": {},
     "output_type": "execute_result"
    }
   ],
   "source": [
    "n=int(input())\n",
    "s=[i**0.5 for i in range(1,n+1) ]\n",
    "s"
   ]
  },
  {
   "cell_type": "code",
   "execution_count": 50,
   "metadata": {},
   "outputs": [
    {
     "name": "stdout",
     "output_type": "stream",
     "text": [
      "10\n"
     ]
    },
    {
     "data": {
      "text/plain": [
       "[1.0,\n",
       " 1.4142135623730951,\n",
       " 1.7320508075688772,\n",
       " 2.0,\n",
       " 2.23606797749979,\n",
       " 2.449489742783178,\n",
       " 2.6457513110645907,\n",
       " 2.8284271247461903,\n",
       " 3.0,\n",
       " 3.1622776601683795]"
      ]
     },
     "execution_count": 50,
     "metadata": {},
     "output_type": "execute_result"
    }
   ],
   "source": [
    "import math\n",
    "n=int(input())\n",
    "m=[]\n",
    "for i in range(1,n+1):\n",
    "    m.append(math.sqrt(i))\n",
    "m"
   ]
  },
  {
   "cell_type": "code",
   "execution_count": 52,
   "metadata": {},
   "outputs": [
    {
     "data": {
      "text/plain": [
       "[1.0,\n",
       " 1.4142135623730951,\n",
       " 1.7320508075688772,\n",
       " 2.0,\n",
       " 2.23606797749979,\n",
       " 2.449489742783178,\n",
       " 2.6457513110645907,\n",
       " 2.8284271247461903,\n",
       " 3.0,\n",
       " 3.1622776601683795]"
      ]
     },
     "execution_count": 52,
     "metadata": {},
     "output_type": "execute_result"
    }
   ],
   "source": [
    "li=[math.sqrt(i) for i in range(1,11)]\n",
    "li"
   ]
  },
  {
   "cell_type": "code",
   "execution_count": 54,
   "metadata": {},
   "outputs": [
    {
     "name": "stdout",
     "output_type": "stream",
     "text": [
      "20\n",
      "30\n"
     ]
    },
    {
     "data": {
      "text/plain": [
       "[400, 441, 484, 529, 576, 625, 676, 729, 784, 841, 900]"
      ]
     },
     "execution_count": 54,
     "metadata": {},
     "output_type": "execute_result"
    }
   ],
   "source": [
    "lb=int(input())\n",
    "ub=int(input())\n",
    "d=[lb*lb for lb in range(lb,ub+1)]\n",
    "d"
   ]
  },
  {
   "cell_type": "code",
   "execution_count": 56,
   "metadata": {},
   "outputs": [
    {
     "data": {
      "text/plain": [
       "[1, 8, 27, 64]"
      ]
     },
     "execution_count": 56,
     "metadata": {},
     "output_type": "execute_result"
    }
   ],
   "source": [
    "d=[i**3 for i in range(1,5)]\n",
    "d"
   ]
  },
  {
   "cell_type": "code",
   "execution_count": 69,
   "metadata": {},
   "outputs": [
    {
     "name": "stdout",
     "output_type": "stream",
     "text": [
      "4\n",
      "[1, 2, 6, 24]\n",
      "24\n"
     ]
    }
   ],
   "source": [
    "def fact(n):\n",
    "    f=1\n",
    "    l=[]\n",
    "    for i in range(1,n+1):\n",
    "        f=f*i\n",
    "        l.append(f)\n",
    "    print(l)\n",
    "    print(f)\n",
    "n=int(input())\n",
    "fact(n)"
   ]
  },
  {
   "cell_type": "code",
   "execution_count": 72,
   "metadata": {},
   "outputs": [
    {
     "name": "stdout",
     "output_type": "stream",
     "text": [
      "[]\n",
      "1\n",
      "[1]\n",
      "1\n",
      "[1, 2]\n",
      "2\n",
      "[1, 2, 6]\n",
      "6\n",
      "[1, 2, 6, 24]\n",
      "24\n"
     ]
    }
   ],
   "source": [
    "t=[fact(i) for i in range (5)]"
   ]
  },
  {
   "cell_type": "markdown",
   "metadata": {},
   "source": [
    "# even or odd"
   ]
  },
  {
   "cell_type": "code",
   "execution_count": 82,
   "metadata": {},
   "outputs": [
    {
     "name": "stdout",
     "output_type": "stream",
     "text": [
      "10\n",
      "11\n",
      "12\n",
      "13\n",
      "14\n",
      "15\n",
      "16\n",
      "17\n",
      "18\n",
      "19\n"
     ]
    }
   ],
   "source": [
    "for i in range(10,20):\n",
    "    if(i%2==0):\n",
    "        print(i)\n",
    "    else:\n",
    "        print(i)"
   ]
  },
  {
   "cell_type": "code",
   "execution_count": 81,
   "metadata": {},
   "outputs": [
    {
     "name": "stdout",
     "output_type": "stream",
     "text": [
      "[10, 12, 14, 16, 18]\n",
      "[11, 13, 15, 17, 19]\n"
     ]
    }
   ],
   "source": [
    "e=[i for i in range(10,20) if i%2==0]\n",
    "o=[i for i in range(10,20) if i%2==1]\n",
    "print(e)\n",
    "print(o)"
   ]
  },
  {
   "cell_type": "code",
   "execution_count": 83,
   "metadata": {},
   "outputs": [
    {
     "data": {
      "text/plain": [
       "[11, 'even', 13, 'even', 15, 'even', 17, 'even', 19, 'even']"
      ]
     },
     "execution_count": 83,
     "metadata": {},
     "output_type": "execute_result"
    }
   ],
   "source": [
    "h=[\"even\" if i%2==0 else i for i in range(11,21)]\n",
    "h"
   ]
  },
  {
   "cell_type": "code",
   "execution_count": 89,
   "metadata": {},
   "outputs": [
    {
     "data": {
      "text/plain": [
       "[10, 20]"
      ]
     },
     "execution_count": 89,
     "metadata": {},
     "output_type": "execute_result"
    }
   ],
   "source": [
    "#s=[i for i in range(1,21) if i%2==0 and i%5==0]\n",
    "s=[i for i in range(1,21) if i%2==0 if i%5==0]\n",
    "s                                                                "
   ]
  },
  {
   "cell_type": "markdown",
   "metadata": {},
   "source": [
    "# leap year from 2000-2020"
   ]
  },
  {
   "cell_type": "code",
   "execution_count": 91,
   "metadata": {},
   "outputs": [
    {
     "data": {
      "text/plain": [
       "[2000, 2004, 2008, 2012, 2016]"
      ]
     },
     "execution_count": 91,
     "metadata": {},
     "output_type": "execute_result"
    }
   ],
   "source": [
    "l_p=[i for i in range(2000,2020) if (i%4==0 and i%100!=0) or i%400==0]\n",
    "l_p"
   ]
  },
  {
   "cell_type": "markdown",
   "metadata": {},
   "source": [
    "### LAMBDA"
   ]
  },
  {
   "cell_type": "code",
   "execution_count": null,
   "metadata": {},
   "outputs": [],
   "source": [
    "#anonymous function---unknown\n",
    "#syntax--->\n",
    "        lambda arguments:expression\n",
    "-->it accepts only one expression\n",
    "-->for calling the lambda function we have to create a object\n",
    "-->lambda does not have return statement"
   ]
  },
  {
   "cell_type": "code",
   "execution_count": 92,
   "metadata": {},
   "outputs": [
    {
     "name": "stdout",
     "output_type": "stream",
     "text": [
      "16\n"
     ]
    }
   ],
   "source": [
    "def square(n):\n",
    "    n**2\n",
    "square(3)\n",
    "d=lambda n:n**2\n",
    "print(d(4))\n"
   ]
  },
  {
   "cell_type": "code",
   "execution_count": 94,
   "metadata": {},
   "outputs": [
    {
     "name": "stdout",
     "output_type": "stream",
     "text": [
      "27\n"
     ]
    }
   ],
   "source": [
    "e=lambda c:c**3\n",
    "print(e(3))"
   ]
  },
  {
   "cell_type": "code",
   "execution_count": 95,
   "metadata": {},
   "outputs": [
    {
     "name": "stdout",
     "output_type": "stream",
     "text": [
      "[1, 4, 9, 16, 25]\n"
     ]
    }
   ],
   "source": [
    "l=[1,2,3,4,5]\n",
    "i=[]\n",
    "for j in range(len(l)):\n",
    "    a=l[j]**2\n",
    "    i.append(a)\n",
    "print(i)"
   ]
  },
  {
   "cell_type": "code",
   "execution_count": 96,
   "metadata": {},
   "outputs": [
    {
     "data": {
      "text/plain": [
       "[1, 4, 9, 16, 25]"
      ]
     },
     "execution_count": 96,
     "metadata": {},
     "output_type": "execute_result"
    }
   ],
   "source": [
    "e=[l[i]**2 for i in range(len(l))]\n",
    "e"
   ]
  },
  {
   "cell_type": "markdown",
   "metadata": {},
   "source": [
    "# iterators"
   ]
  },
  {
   "cell_type": "markdown",
   "metadata": {},
   "source": [
    "## 1.iter()\n",
    "## 2.next()"
   ]
  },
  {
   "cell_type": "code",
   "execution_count": 97,
   "metadata": {},
   "outputs": [
    {
     "name": "stdout",
     "output_type": "stream",
     "text": [
      "1\n",
      "2\n",
      "3\n",
      "4\n",
      "5\n",
      "6\n"
     ]
    }
   ],
   "source": [
    "l=[1,2,3,4,5,6]\n",
    "for i in l:\n",
    "    print(i)"
   ]
  },
  {
   "cell_type": "code",
   "execution_count": 99,
   "metadata": {},
   "outputs": [
    {
     "name": "stdout",
     "output_type": "stream",
     "text": [
      "1\n",
      "2\n",
      "3\n",
      "4\n"
     ]
    }
   ],
   "source": [
    "#iter(),next()\n",
    "a=iter(l)\n",
    "print(next(a))\n",
    "print(next(a))\n",
    "print(next(a))\n",
    "print(next(a))"
   ]
  },
  {
   "cell_type": "markdown",
   "metadata": {},
   "source": [
    "# generate"
   ]
  },
  {
   "cell_type": "code",
   "execution_count": 102,
   "metadata": {},
   "outputs": [
    {
     "data": {
      "text/plain": [
       "5"
      ]
     },
     "execution_count": 102,
     "metadata": {},
     "output_type": "execute_result"
    }
   ],
   "source": [
    "def add(a,b):\n",
    "    return a+b\n",
    "    a+=1\n",
    "    b=+1\n",
    "    return a+b# function can have only one return statement\n",
    "add(2,3)"
   ]
  },
  {
   "cell_type": "markdown",
   "metadata": {},
   "source": [
    "# yield,next"
   ]
  },
  {
   "cell_type": "code",
   "execution_count": 103,
   "metadata": {},
   "outputs": [
    {
     "name": "stdout",
     "output_type": "stream",
     "text": [
      "5\n",
      "4\n",
      "5\n",
      "4\n"
     ]
    }
   ],
   "source": [
    "def add(a,b):\n",
    "    c=a+b\n",
    "    yield c\n",
    "    a+=1\n",
    "    b=+1\n",
    "    c=a+b\n",
    "    yield c\n",
    "d=add(2,3)\n",
    "print(next(d))\n",
    "print(next(d))\n",
    "for i in add(2,3):\n",
    "    print(i)"
   ]
  },
  {
   "cell_type": "code",
   "execution_count": 104,
   "metadata": {},
   "outputs": [],
   "source": [
    "#print 1,2,3,4,5 factorial by using generators"
   ]
  },
  {
   "cell_type": "markdown",
   "metadata": {},
   "source": [
    "# map"
   ]
  },
  {
   "cell_type": "markdown",
   "metadata": {},
   "source": [
    "# syntax-->map(fun,iterable)"
   ]
  },
  {
   "cell_type": "code",
   "execution_count": 106,
   "metadata": {},
   "outputs": [
    {
     "name": "stdout",
     "output_type": "stream",
     "text": [
      "[1, 4, 9, 16, 25]\n"
     ]
    }
   ],
   "source": [
    "def square(n):\n",
    "    return n**2\n",
    "l=[1,2,3,4,5]\n",
    "print(list(map(square,l)))"
   ]
  },
  {
   "cell_type": "code",
   "execution_count": 107,
   "metadata": {},
   "outputs": [
    {
     "name": "stdout",
     "output_type": "stream",
     "text": [
      "[1, 4, 9, 16, 25]\n"
     ]
    }
   ],
   "source": [
    "l=[1,2,3,4,5]\n",
    "print(list(map(lambda x:x**2,l)))"
   ]
  },
  {
   "cell_type": "code",
   "execution_count": 110,
   "metadata": {},
   "outputs": [
    {
     "name": "stdout",
     "output_type": "stream",
     "text": [
      "[2, 4, 6]\n"
     ]
    }
   ],
   "source": [
    "# addition of two number by using tuples\n",
    "t=(1,2,3)\n",
    "t1=(1,2,3)\n",
    "print(list(map(lambda a,b:a+b,t,t1 )))"
   ]
  },
  {
   "cell_type": "markdown",
   "metadata": {},
   "source": [
    "# filter"
   ]
  },
  {
   "cell_type": "markdown",
   "metadata": {},
   "source": [
    "# syntax-->filter(fun,iterable)"
   ]
  },
  {
   "cell_type": "code",
   "execution_count": 113,
   "metadata": {},
   "outputs": [
    {
     "data": {
      "text/plain": [
       "[2, 4, 6, 8]"
      ]
     },
     "execution_count": 113,
     "metadata": {},
     "output_type": "execute_result"
    }
   ],
   "source": [
    "l=[1,2,3,4,5,6,7,8,9]\n",
    "a=list(filter(lambda x:x%2==0,l))\n",
    "a"
   ]
  },
  {
   "cell_type": "code",
   "execution_count": 120,
   "metadata": {},
   "outputs": [
    {
     "name": "stdout",
     "output_type": "stream",
     "text": [
      "[1, 2, 3]\n"
     ]
    }
   ],
   "source": [
    "l=[1,2,3,'a','b']\n",
    "l1=[]\n",
    "for i in l:\n",
    "    if str(i).isdigit():\n",
    "        l1.append(i)\n",
    "print(l1)\n",
    "def digit(l1):\n",
    "    for i in l:\n",
    "        if str(i).isdigit():\n",
    "            return True\n",
    "        return False\n",
    "a=list(filter(digit,l))\n"
   ]
  },
  {
   "cell_type": "code",
   "execution_count": 118,
   "metadata": {},
   "outputs": [
    {
     "data": {
      "text/plain": [
       "[0, 1, 2, 3, 4, 5, 6, 7, 8, 9]"
      ]
     },
     "execution_count": 118,
     "metadata": {},
     "output_type": "execute_result"
    }
   ],
   "source": [
    "l=list(range(10))\n",
    "l"
   ]
  },
  {
   "cell_type": "code",
   "execution_count": 126,
   "metadata": {},
   "outputs": [
    {
     "name": "stdout",
     "output_type": "stream",
     "text": [
      "10\n",
      "2 3 5 7 "
     ]
    }
   ],
   "source": [
    "def prime(j):\n",
    "    f=0\n",
    "    for i in range(1,j+1):\n",
    "        if(j%i==0):\n",
    "            f=f+1\n",
    "    if(f==2):\n",
    "        print(i,end=\" \")\n",
    "N=int(input())\n",
    "for j in range(1,N+1):\n",
    "    prime(j)            "
   ]
  },
  {
   "cell_type": "code",
   "execution_count": 130,
   "metadata": {},
   "outputs": [
    {
     "name": "stdout",
     "output_type": "stream",
     "text": [
      "[2, 3, 5, 7]\n"
     ]
    }
   ],
   "source": [
    "l=list(range(10))\n",
    "def prime(n):\n",
    "    f=0\n",
    "    for i in range(1,n+1):\n",
    "        if(n%i==0):\n",
    "            f=f+1\n",
    "    if(f==2):\n",
    "        return 1\n",
    "    return 0\n",
    "print(list(filter(prime,l)))"
   ]
  },
  {
   "cell_type": "code",
   "execution_count": null,
   "metadata": {},
   "outputs": [],
   "source": []
  }
 ],
 "metadata": {
  "kernelspec": {
   "display_name": "Python 3",
   "language": "python",
   "name": "python3"
  },
  "language_info": {
   "codemirror_mode": {
    "name": "ipython",
    "version": 3
   },
   "file_extension": ".py",
   "mimetype": "text/x-python",
   "name": "python",
   "nbconvert_exporter": "python",
   "pygments_lexer": "ipython3",
   "version": "3.7.3"
  }
 },
 "nbformat": 4,
 "nbformat_minor": 2
}
