{
 "cells": [
  {
   "cell_type": "markdown",
   "metadata": {},
   "source": [
    "The dataset consists of marks of two exams for 100 students.The target value takes on binary vlaues 1,0.1 means the applicant was admitted into the university whereas 0 means the applicant didn't get an admission.The objective is to build a classifier that can predict whether a student will be admitted into university or not."
   ]
  },
  {
   "cell_type": "code",
   "execution_count": 1,
   "metadata": {},
   "outputs": [
    {
     "data": {
      "text/plain": [
       "<Figure size 640x480 with 1 Axes>"
      ]
     },
     "metadata": {},
     "output_type": "display_data"
    }
   ],
   "source": [
    "import numpy as np\n",
    "import pandas as pd\n",
    "import matplotlib.pyplot as plt\n",
    "from sklearn.linear_model import LogisticRegression\n",
    "from sklearn.metrics import accuracy_score,confusion_matrix\n",
    "\n",
    "def load_data(path,header):\n",
    "    marks_df = pd.read_csv(path,header = None)\n",
    "    return marks_df\n",
    "\n",
    "if __name__ == \"__main__\":\n",
    "    #load the data from the text file\n",
    "    data = load_data(\"data.txt\",None)\n",
    "    \n",
    "    #X - feature values,all the columns except the last column\n",
    "    X = data.iloc[:,:-1]\n",
    "    \n",
    "    #y - target values last column of the data\n",
    "    y = data.iloc[:,-1]\n",
    "    data.head()\n",
    "    #filter the applicants who got admitted\n",
    "    admitted = data.loc[y == 1]\n",
    "    \n",
    "    #filter out the applicants who didn't get admission\n",
    "    not_admitted = data.loc[y == 0]\n",
    "    \n",
    "    #plots\n",
    "    plt.scatter(admitted.iloc[:,0],admitted.iloc[:,1],label = \"Admitted\")\n",
    "    plt.scatter(not_admitted.iloc[:,0],not_admitted.iloc[:,1],label = \"Not Admitted\")\n",
    "    plt.legend(loc = 'best')\n",
    "    plt.show()"
   ]
  },
  {
   "cell_type": "code",
   "execution_count": 2,
   "metadata": {},
   "outputs": [
    {
     "name": "stdout",
     "output_type": "stream",
     "text": [
      "0.87\n",
      "[[27 13]\n",
      " [ 0 60]]\n",
      "[1]\n"
     ]
    },
    {
     "name": "stderr",
     "output_type": "stream",
     "text": [
      "C:\\Users\\kvsw4\\Anaconda3\\lib\\site-packages\\sklearn\\linear_model\\logistic.py:432: FutureWarning: Default solver will be changed to 'lbfgs' in 0.22. Specify a solver to silence this warning.\n",
      "  FutureWarning)\n"
     ]
    }
   ],
   "source": [
    "model = LogisticRegression()\n",
    "model.fit(X,y)\n",
    "predicted_classes = model.predict(X)\n",
    "accuracy = accuracy_score(y,predicted_classes)\n",
    "conf_matrix = confusion_matrix(y,predicted_classes)\n",
    "print(accuracy)\n",
    "print(conf_matrix)\n",
    "print(model.predict([[61,86]]))"
   ]
  },
  {
   "cell_type": "code",
   "execution_count": 3,
   "metadata": {},
   "outputs": [
    {
     "data": {
      "text/html": [
       "<div>\n",
       "<style scoped>\n",
       "    .dataframe tbody tr th:only-of-type {\n",
       "        vertical-align: middle;\n",
       "    }\n",
       "\n",
       "    .dataframe tbody tr th {\n",
       "        vertical-align: top;\n",
       "    }\n",
       "\n",
       "    .dataframe thead th {\n",
       "        text-align: right;\n",
       "    }\n",
       "</style>\n",
       "<table border=\"1\" class=\"dataframe\">\n",
       "  <thead>\n",
       "    <tr style=\"text-align: right;\">\n",
       "      <th></th>\n",
       "      <th>0</th>\n",
       "      <th>1</th>\n",
       "      <th>2</th>\n",
       "    </tr>\n",
       "  </thead>\n",
       "  <tbody>\n",
       "    <tr>\n",
       "      <th>0</th>\n",
       "      <td>34.623660</td>\n",
       "      <td>78.024693</td>\n",
       "      <td>0</td>\n",
       "    </tr>\n",
       "    <tr>\n",
       "      <th>1</th>\n",
       "      <td>30.286711</td>\n",
       "      <td>43.894998</td>\n",
       "      <td>0</td>\n",
       "    </tr>\n",
       "    <tr>\n",
       "      <th>2</th>\n",
       "      <td>35.847409</td>\n",
       "      <td>72.902198</td>\n",
       "      <td>0</td>\n",
       "    </tr>\n",
       "    <tr>\n",
       "      <th>3</th>\n",
       "      <td>60.182599</td>\n",
       "      <td>86.308552</td>\n",
       "      <td>1</td>\n",
       "    </tr>\n",
       "    <tr>\n",
       "      <th>4</th>\n",
       "      <td>79.032736</td>\n",
       "      <td>75.344376</td>\n",
       "      <td>1</td>\n",
       "    </tr>\n",
       "  </tbody>\n",
       "</table>\n",
       "</div>"
      ],
      "text/plain": [
       "           0          1  2\n",
       "0  34.623660  78.024693  0\n",
       "1  30.286711  43.894998  0\n",
       "2  35.847409  72.902198  0\n",
       "3  60.182599  86.308552  1\n",
       "4  79.032736  75.344376  1"
      ]
     },
     "execution_count": 3,
     "metadata": {},
     "output_type": "execute_result"
    }
   ],
   "source": [
    "data.head()"
   ]
  },
  {
   "cell_type": "markdown",
   "metadata": {},
   "source": [
    "multiclass :{'ovr','multinomial','auto'} multinomial -->Softmax \n",
    "\n",
    "solver :{'lbfgs','liblinear','sag','saga','newton-cg'} \n",
    "         small datasets :\"liblinear\" whereas 'sag' and 'saga' are faster for larger datasets\n",
    "         for multiclass problems,only 'newton-cg','sag','saga'and 'lbfgs' handle multinomial loss\n",
    "         \n",
    "C :float default(1.0) inverse of regularization (alpha in LinearR)\n",
    "\n",
    "max_iter ->int (default = 100) maximum number of iterations taken for the solvers to converge"
   ]
  },
  {
   "cell_type": "code",
   "execution_count": 11,
   "metadata": {},
   "outputs": [
    {
     "name": "stdout",
     "output_type": "stream",
     "text": [
      "0.89\n",
      "[[34  6]\n",
      " [ 5 55]]\n",
      "[1]\n"
     ]
    }
   ],
   "source": [
    "model = LogisticRegression(multi_class = 'multinomial',solver = 'lbfgs')\n",
    "model.fit(X,y)\n",
    "predicted_classes = model.predict(X)\n",
    "accuracy = accuracy_score(y,predicted_classes)\n",
    "conf_matrix = confusion_matrix(y,predicted_classes)\n",
    "print(accuracy)\n",
    "print(conf_matrix)\n",
    "print(model.predict([[60,86]]))"
   ]
  },
  {
   "cell_type": "markdown",
   "metadata": {},
   "source": [
    "Multiple categories in data we can choose Multinomial Logistic Regression(Softmax Regression)."
   ]
  },
  {
   "cell_type": "code",
   "execution_count": null,
   "metadata": {},
   "outputs": [],
   "source": []
  }
 ],
 "metadata": {
  "kernelspec": {
   "display_name": "Python 3",
   "language": "python",
   "name": "python3"
  },
  "language_info": {
   "codemirror_mode": {
    "name": "ipython",
    "version": 3
   },
   "file_extension": ".py",
   "mimetype": "text/x-python",
   "name": "python",
   "nbconvert_exporter": "python",
   "pygments_lexer": "ipython3",
   "version": "3.7.3"
  }
 },
 "nbformat": 4,
 "nbformat_minor": 2
}
