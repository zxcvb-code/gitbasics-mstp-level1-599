{
 "cells": [
  {
   "cell_type": "markdown",
   "metadata": {},
   "source": [
    "# 1.write a python program to generate and print a list and a dictionary of a square of number between 1 and15(both include)"
   ]
  },
  {
   "cell_type": "code",
   "execution_count": 3,
   "metadata": {},
   "outputs": [
    {
     "name": "stdout",
     "output_type": "stream",
     "text": [
      "dictionary {1: 1, 2: 4, 3: 9, 4: 16, 5: 25, 6: 36, 7: 49, 8: 64, 9: 81, 10: 100, 11: 121, 12: 144, 13: 169, 14: 196, 15: 225}\n",
      "list [1, 4, 9, 16, 25, 36, 49, 64, 81, 100, 121, 144, 169, 196, 225]\n"
     ]
    }
   ],
   "source": [
    "def diction():\n",
    "    a={}\n",
    "    b=[]\n",
    "    for i in range(1,16):\n",
    "        a[i]=i**2\n",
    "        b.append(i**2)\n",
    "    print(\"dictionary\",a)\n",
    "    print(\"list\",b)\n",
    "    \n",
    "    \n",
    "diction()\n",
    "        "
   ]
  },
  {
   "cell_type": "markdown",
   "metadata": {},
   "source": [
    "# 2.Take 10 integer input from user and store them in a list and print them on a screen"
   ]
  },
  {
   "cell_type": "code",
   "execution_count": 1,
   "metadata": {},
   "outputs": [
    {
     "name": "stdout",
     "output_type": "stream",
     "text": [
      "enter the elements10\n",
      "1\n",
      "2\n",
      "3\n",
      "4\n",
      "5\n",
      "6\n",
      "7\n",
      "8\n",
      "9\n",
      "10\n",
      "[1, 2, 3, 4, 5, 6, 7, 8, 9, 10]\n"
     ]
    }
   ],
   "source": [
    "def integer():\n",
    "    s=[]\n",
    "    n=int(input(\"enter the elements\"))\n",
    "    for i in range(1,n+1):\n",
    "        ele=int(input())\n",
    "        s.append(ele)\n",
    "    print(s)\n",
    "integer()\n",
    "\n",
    "        "
   ]
  },
  {
   "cell_type": "markdown",
   "metadata": {},
   "source": [
    "# 3.l=[1,5,7,3,2,4,5,9],print list of all even number from the given list"
   ]
  },
  {
   "cell_type": "code",
   "execution_count": 5,
   "metadata": {},
   "outputs": [
    {
     "name": "stdout",
     "output_type": "stream",
     "text": [
      "[2, 4]\n"
     ]
    }
   ],
   "source": [
    "l=[1,5,7,3,2,4,5,9]\n",
    "even=[]\n",
    "for num in l:\n",
    "    if(num%2==0):\n",
    "        even.append(num)\n",
    "print(even)"
   ]
  },
  {
   "cell_type": "markdown",
   "metadata": {},
   "source": [
    "## 4.Take 10 integer inputs from user and print the following\n",
    "num of positive numbers\n",
    "number of negative numbers\n",
    "number of odd numbers\n",
    "number of even numbers\n",
    "number of 0s using dictionaries\n",
    "a=[10,20,-5,-6,3,4,0,0,-2,8]\n",
    "d={p:5,n:3,e:6,odd:2,0:2}"
   ]
  },
  {
   "cell_type": "code",
   "execution_count": null,
   "metadata": {},
   "outputs": [],
   "source": [
    "n=int(input())\n",
    "for i in range(n):\n",
    "    ele=int(input())\n",
    "    if(ele>0)"
   ]
  },
  {
   "cell_type": "markdown",
   "metadata": {},
   "source": [
    "## 5.Ask user to give name and marks of 10 different students.store them in dictionary"
   ]
  },
  {
   "cell_type": "code",
   "execution_count": 2,
   "metadata": {},
   "outputs": [
    {
     "name": "stdout",
     "output_type": "stream",
     "text": [
      "total number of students10\n",
      "names1\n",
      "marks100\n",
      "names2\n",
      "marks90\n",
      "names3\n",
      "marks70\n",
      "names4\n",
      "marks60\n",
      "names5\n",
      "marks30\n",
      "names627\n",
      "marks27\n",
      "names7\n",
      "marks18\n",
      "names8\n",
      "marks29\n",
      "names10\n",
      "marks54\n",
      "names11\n",
      "marks20\n",
      "{'s1': 100, 's2': 90, 's3': 70, 's4': 60, 's5': 30, 's627': 27, 's7': 18, 's8': 29, 's10': 54, 's11': 20}\n"
     ]
    }
   ],
   "source": [
    "b=int(input(\"total number of students\"))\n",
    "stu={}\n",
    "for i in range(b):\n",
    "    name=input(\"name\")\n",
    "    marks=int(input(\"marks\"))\n",
    "    stu[name]=marks\n",
    "print(stu)   "
   ]
  },
  {
   "cell_type": "markdown",
   "metadata": {},
   "source": [
    "# 6.sort the dictionary created in previous example according to the marks"
   ]
  },
  {
   "cell_type": "code",
   "execution_count": null,
   "metadata": {},
   "outputs": [],
   "source": []
  },
  {
   "cell_type": "markdown",
   "metadata": {},
   "source": [
    "# 7.Use dictionary to store antonyms of words\n",
    "e.g:'right':'left','up':'down',etc.display all words and then ask user to enter a word and display antonym of it"
   ]
  },
  {
   "cell_type": "code",
   "execution_count": 36,
   "metadata": {},
   "outputs": [
    {
     "name": "stdout",
     "output_type": "stream",
     "text": [
      "{'right': 'left', 'up': 'down', 'front': 'back', 'big': 'small'}\n",
      "up\n",
      "down\n"
     ]
    }
   ],
   "source": [
    "p={'right':'left','up':'down','front':'back','big':'small'}\n",
    "print(p)\n",
    "n=input()\n",
    "print(p.get(n))"
   ]
  },
  {
   "cell_type": "markdown",
   "metadata": {},
   "source": [
    "# 8.Count the number of occurence of each letter in word \"MISSISSIPPI\".\n",
    "store count of every letter with the letter in a dictionary"
   ]
  },
  {
   "cell_type": "code",
   "execution_count": 34,
   "metadata": {},
   "outputs": [
    {
     "name": "stdout",
     "output_type": "stream",
     "text": [
      "{'I': 4, 'P': 2, 'M': 1, 'S': 4}\n"
     ]
    }
   ],
   "source": [
    "a=\"MISSISSIPPI\"\n",
    "c={}\n",
    "b=list(set(a))\n",
    "for i in b:\n",
    "    c[i]=a.count(i)\n",
    "print(c)    "
   ]
  },
  {
   "cell_type": "markdown",
   "metadata": {},
   "source": [
    "# 9.from the previous question,sort according to the number of letters"
   ]
  },
  {
   "cell_type": "code",
   "execution_count": null,
   "metadata": {},
   "outputs": [],
   "source": []
  }
 ],
 "metadata": {
  "kernelspec": {
   "display_name": "Python 3",
   "language": "python",
   "name": "python3"
  },
  "language_info": {
   "codemirror_mode": {
    "name": "ipython",
    "version": 3
   },
   "file_extension": ".py",
   "mimetype": "text/x-python",
   "name": "python",
   "nbconvert_exporter": "python",
   "pygments_lexer": "ipython3",
   "version": "3.7.3"
  }
 },
 "nbformat": 4,
 "nbformat_minor": 2
}
