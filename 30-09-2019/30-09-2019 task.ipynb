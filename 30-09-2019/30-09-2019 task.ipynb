{
 "cells": [
  {
   "cell_type": "markdown",
   "metadata": {},
   "source": [
    "# 1.write a python program to generate and print a list and a dictionary of a square of number between 1 and15(both include)"
   ]
  },
  {
   "cell_type": "code",
   "execution_count": 3,
   "metadata": {},
   "outputs": [
    {
     "name": "stdout",
     "output_type": "stream",
     "text": [
      "dictionary {1: 1, 2: 4, 3: 9, 4: 16, 5: 25, 6: 36, 7: 49, 8: 64, 9: 81, 10: 100, 11: 121, 12: 144, 13: 169, 14: 196, 15: 225}\n",
      "list [1, 4, 9, 16, 25, 36, 49, 64, 81, 100, 121, 144, 169, 196, 225]\n"
     ]
    }
   ],
   "source": [
    "def diction():\n",
    "    a={}\n",
    "    b=[]\n",
    "    l=int(input())\n",
    "    for i in range(1,16):\n",
    "        a[i]=i**2\n",
    "        b.append(i**2)\n",
    "    print(\"dictionary\",a)\n",
    "    print(\"list\",b)\n",
    "    \n",
    "    \n",
    "diction()\n",
    "        "
   ]
  },
  {
   "cell_type": "markdown",
   "metadata": {},
   "source": [
    "# 2.Take 10 integer input from user and store them in a list and print them on a screen"
   ]
  },
  {
   "cell_type": "code",
   "execution_count": 1,
   "metadata": {},
   "outputs": [
    {
     "name": "stdout",
     "output_type": "stream",
     "text": [
      "enter the elements10\n",
      "1\n",
      "2\n",
      "3\n",
      "4\n",
      "5\n",
      "6\n",
      "7\n",
      "8\n",
      "9\n",
      "10\n",
      "[1, 2, 3, 4, 5, 6, 7, 8, 9, 10]\n"
     ]
    }
   ],
   "source": [
    "def integer():\n",
    "    s=[]\n",
    "    n=int(input(\"enter the elements\"))\n",
    "    for i in range(1,n+1):\n",
    "        ele=int(input())\n",
    "        s.append(ele)\n",
    "    print(s)\n",
    "integer()\n",
    "\n",
    "        "
   ]
  },
  {
   "cell_type": "markdown",
   "metadata": {},
   "source": [
    "# 3.l=[1,5,7,3,2,4,5,9],print list of all even number from the given list"
   ]
  },
  {
   "cell_type": "code",
   "execution_count": 5,
   "metadata": {},
   "outputs": [
    {
     "name": "stdout",
     "output_type": "stream",
     "text": [
      "[2, 4]\n"
     ]
    }
   ],
   "source": [
    "l=[1,5,7,3,2,4,5,9]\n",
    "even=[]\n",
    "for num in l:\n",
    "    if(num%2==0):\n",
    "        even.append(num)\n",
    "print(even)"
   ]
  },
  {
   "cell_type": "markdown",
   "metadata": {},
   "source": [
    "## 4.Take 10 integer inputs from user and print the following\n",
    "num of positive numbers\n",
    "number of negative numbers\n",
    "number of odd numbers\n",
    "number of even numbers\n",
    "number of 0s using dictionaries\n",
    "a=[10,20,-5,-6,3,4,0,0,-2,8]\n",
    "d={p:5,n:3,e:6,odd:2,0:2}"
   ]
  },
  {
   "cell_type": "code",
   "execution_count": 58,
   "metadata": {},
   "outputs": [
    {
     "name": "stdout",
     "output_type": "stream",
     "text": [
      "0\n",
      "-9\n",
      "8\n",
      "7\n",
      "-5\n",
      "0\n",
      "-3\n",
      "3\n",
      "2\n",
      "-2\n",
      "{'p': 4, 'n': 4, 'o': 5, 'e': 3, 'z': 2}\n"
     ]
    }
   ],
   "source": [
    "l=[]\n",
    "for i in range(1,11):\n",
    "    ele=int(input())\n",
    "    l.append(ele)\n",
    "td={'p':0,'n':0,'o':0,'e':0,'z':0}\n",
    "for j in l:\n",
    "    if j>0:\n",
    "        td['p']+=1\n",
    "        if j%2==0:\n",
    "            td['e']+=1\n",
    "        else:\n",
    "            td['o']+=1\n",
    "    elif j<0:\n",
    "        td['n']+=1\n",
    "        if j%2==0:\n",
    "            td['e']+=1\n",
    "        else:\n",
    "            td['o']+=1\n",
    "    elif(j==0):\n",
    "        td['z']+=1\n",
    "print(td)\n",
    "    "
   ]
  },
  {
   "cell_type": "markdown",
   "metadata": {},
   "source": [
    "# 3## 5.Ask user to give name and marks of 10 different students.store them in dictionary"
   ]
  },
  {
   "cell_type": "code",
   "execution_count": 38,
   "metadata": {},
   "outputs": [
    {
     "name": "stdout",
     "output_type": "stream",
     "text": [
      "total number of students10\n",
      "namechitti\n",
      "marks100\n",
      "namesukku\n",
      "marks90\n",
      "namegayathri\n",
      "marks80\n",
      "namemamatha\n",
      "marks79\n",
      "nameswathi\n",
      "marks60\n",
      "namebhavya\n",
      "marks65\n",
      "namecherishma\n",
      "marks22\n",
      "namehumera\n",
      "marks45\n",
      "namesweety\n",
      "marks23\n",
      "namepunnu\n",
      "marks45\n",
      "{100: 'chitti', 90: 'sukku', 80: 'gayathri', 79: 'mamatha', 60: 'swathi', 65: 'bhavya', 22: 'cherishma', 45: 'punnu', 23: 'sweety'}\n"
     ]
    }
   ],
   "source": [
    "b=int(input(\"total number of students\"))\n",
    "stu={}\n",
    "for i in range(b):\n",
    "    name=input(\"name\")\n",
    "    marks=int(input(\"marks\"))\n",
    "    stu[marks]=name\n",
    "print(stu)   "
   ]
  },
  {
   "cell_type": "markdown",
   "metadata": {},
   "source": [
    "# 6.sort the dictionary created in previous example according to the marks"
   ]
  },
  {
   "cell_type": "code",
   "execution_count": 41,
   "metadata": {},
   "outputs": [
    {
     "name": "stdout",
     "output_type": "stream",
     "text": [
      "22 : cherishma\n",
      "23 : sweety\n",
      "45 : punnu\n",
      "60 : swathi\n",
      "65 : bhavya\n",
      "79 : mamatha\n",
      "80 : gayathri\n",
      "90 : sukku\n",
      "100 : chitti\n"
     ]
    }
   ],
   "source": [
    "s=sorted(stu.keys())\n",
    "for i in s:\n",
    "    print(i,\":\",stu[i])\n",
    "\n"
   ]
  },
  {
   "cell_type": "markdown",
   "metadata": {},
   "source": [
    "# 7.Use dictionary to store antonyms of words\n",
    "e.g:'right':'left','up':'down',etc.display all words and then ask user to enter a word and display antonym of it"
   ]
  },
  {
   "cell_type": "code",
   "execution_count": 45,
   "metadata": {},
   "outputs": [
    {
     "name": "stdout",
     "output_type": "stream",
     "text": [
      "['right', 'up', 'front', 'big']\n",
      "up\n",
      "down\n",
      "down\n"
     ]
    }
   ],
   "source": [
    "p={'right':'left','up':'down','front':'back','big':'small'}\n",
    "print(list(p.keys()))\n",
    "n=input()\n",
    "print(p.get(n))\n",
    "print(p[n])"
   ]
  },
  {
   "cell_type": "markdown",
   "metadata": {},
   "source": [
    "# 8.Count the number of occurence of each letter in word \"MISSISSIPPI\".\n",
    "store count of every letter with the letter in a dictionary"
   ]
  },
  {
   "cell_type": "code",
   "execution_count": 34,
   "metadata": {},
   "outputs": [
    {
     "name": "stdout",
     "output_type": "stream",
     "text": [
      "{'I': 4, 'P': 2, 'M': 1, 'S': 4}\n"
     ]
    }
   ],
   "source": [
    "a=\"MISSISSIPPI\"\n",
    "c={}\n",
    "b=list(set(a))\n",
    "for i in b:\n",
    "    c[i]=a.count(i)\n",
    "print(c)    "
   ]
  },
  {
   "cell_type": "markdown",
   "metadata": {},
   "source": [
    "# 9.from the previous question,sort according to the number of letters"
   ]
  },
  {
   "cell_type": "code",
   "execution_count": 62,
   "metadata": {},
   "outputs": [
    {
     "name": "stdout",
     "output_type": "stream",
     "text": [
      "I : 4\n",
      "M : 1\n",
      "P : 2\n",
      "S : 4\n"
     ]
    }
   ],
   "source": [
    "s=sorted(c.keys())\n",
    "for i in s:\n",
    "    print(i,\":\",c[i])"
   ]
  },
  {
   "cell_type": "code",
   "execution_count": null,
   "metadata": {},
   "outputs": [],
   "source": []
  }
 ],
 "metadata": {
  "kernelspec": {
   "display_name": "Python 3",
   "language": "python",
   "name": "python3"
  },
  "language_info": {
   "codemirror_mode": {
    "name": "ipython",
    "version": 3
   },
   "file_extension": ".py",
   "mimetype": "text/x-python",
   "name": "python",
   "nbconvert_exporter": "python",
   "pygments_lexer": "ipython3",
   "version": "3.7.3"
  }
 },
 "nbformat": 4,
 "nbformat_minor": 2
}
