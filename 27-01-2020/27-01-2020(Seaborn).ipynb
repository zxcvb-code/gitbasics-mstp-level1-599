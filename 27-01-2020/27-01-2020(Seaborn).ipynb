{
 "cells": [
  {
   "cell_type": "code",
   "execution_count": 1,
   "metadata": {},
   "outputs": [],
   "source": [
    "## Seaborn:is a python data visualization library based on matplotlib\n",
    "### it highly graphical representation\n",
    "    "
   ]
  },
  {
   "cell_type": "code",
   "execution_count": 2,
   "metadata": {},
   "outputs": [],
   "source": [
    "## features of seaborn\n",
    "#### 1.Built in themes for styling matplotlib graphics\n"
   ]
  },
  {
   "cell_type": "code",
   "execution_count": 4,
   "metadata": {},
   "outputs": [],
   "source": [
    "### Seaborn style\n",
    "## 1.plotstyle\n",
    "### 2.plotscale\n",
    "    "
   ]
  },
  {
   "cell_type": "code",
   "execution_count": 5,
   "metadata": {},
   "outputs": [],
   "source": [
    "### how to import Datasets\n",
    "### import seaborn as sb\n",
    "## df=sb.load_datasets('tips')\n",
    "\n"
   ]
  },
  {
   "cell_type": "code",
   "execution_count": 6,
   "metadata": {},
   "outputs": [],
   "source": [
    "## to display inbuilt commands\n",
    "##seaborn.get_dataset_name"
   ]
  },
  {
   "cell_type": "code",
   "execution_count": null,
   "metadata": {},
   "outputs": [],
   "source": [
    "## To display color\n",
    "### seaborn.color_palette()\n",
    "### Deep,muted,bright,pastel,dark,colorblind\n",
    "## Seaborn plots\n",
    "### 1.histogramplot\n",
    "### 2.barplot\n",
    "### 3.scatter plot\n",
    "### 4.joint plot\n",
    "### 5.boxplot\n",
    "### 6.distributionplot\n",
    "### 7.voilon plot\n",
    "### 8.factor plot\n",
    "### 9.swarmplot\n",
    "### 10.kde plot\n",
    "### 11.pair plot\n",
    "### 12.point plot\n",
    "### 13.relationplot\n",
    "### 14.factetgrid plot\n",
    "    \n",
    "    "
   ]
  },
  {
   "cell_type": "code",
   "execution_count": null,
   "metadata": {},
   "outputs": [],
   "source": []
  }
 ],
 "metadata": {
  "kernelspec": {
   "display_name": "Python 3",
   "language": "python",
   "name": "python3"
  },
  "language_info": {
   "codemirror_mode": {
    "name": "ipython",
    "version": 3
   },
   "file_extension": ".py",
   "mimetype": "text/x-python",
   "name": "python",
   "nbconvert_exporter": "python",
   "pygments_lexer": "ipython3",
   "version": "3.7.3"
  }
 },
 "nbformat": 4,
 "nbformat_minor": 2
}
