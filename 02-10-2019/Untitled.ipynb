{
 "cells": [
  {
   "cell_type": "markdown",
   "metadata": {},
   "source": [
    "### REGULAR EXPRESSION"
   ]
  },
  {
   "cell_type": "markdown",
   "metadata": {},
   "source": [
    "1.abc-that matches the character sequence anywhere in the string\n",
    "2.^ --beginning of the string\n",
    "3.$---at the end of the string\n",
    "4.a|b---either a or b"
   ]
  },
  {
   "cell_type": "code",
   "execution_count": null,
   "metadata": {},
   "outputs": [],
   "source": [
    "^([a-z]|[0-9]|[A-Z])([a-z]|[0-9]|[A-Z]|[_]){6,14}([0-9]|[a-z])@[a-z]{2,10}[.][a-z]{2,4}$"
   ]
  },
  {
   "cell_type": "markdown",
   "metadata": {},
   "source": [
    "# phone number validation"
   ]
  },
  {
   "cell_type": "code",
   "execution_count": 16,
   "metadata": {},
   "outputs": [
    {
     "data": {
      "text/plain": [
       "1"
      ]
     },
     "execution_count": 16,
     "metadata": {},
     "output_type": "execute_result"
    }
   ],
   "source": [
    "#^[0][6-9][0-9][9]$--10 digit number starting with zero\n",
    "#^[+][9][1][6789][0-9][9]$--10 digits number starting with +91\n",
    "#^[6-9][0-9]{9}$\n",
    "import re\n",
    "def phoneno(num):\n",
    "    pattern='[+][9][1][6789][0-9]{9}$|^[0][6-9][0-9]{9}$|^[6-9][0-9]{9}$'\n",
    "    if re.match(pattern,num):\n",
    "        return 1\n",
    "    else:\n",
    "        return 0\n",
    "phoneno(\"8976543298\")\n",
    "phoneno(\"+919987432156\")\n",
    "phoneno(\"09879543267\")"
   ]
  },
  {
   "cell_type": "markdown",
   "metadata": {},
   "source": [
    "# email validation"
   ]
  },
  {
   "cell_type": "code",
   "execution_count": 19,
   "metadata": {},
   "outputs": [
    {
     "data": {
      "text/plain": [
       "1"
      ]
     },
     "execution_count": 19,
     "metadata": {},
     "output_type": "execute_result"
    }
   ],
   "source": [
    "#([a-z]|[0-9]|[A-Z])([a-z]|[0-9]|[A-Z]|[_]){6,14}([0-9]|[a-z])[@][a-z]{2,10}[.][a-z]{2,4}$\n",
    "import re\n",
    "def email(mail):\n",
    "    pattern='^([a-z]|[0-9]|[A-Z])([a-z]|[0-9]|[A-Z]|[_]){6,14}([0-9]|[a-z])[@][a-z]{2,10}[.][a-z]{2,4}$'\n",
    "    if re.match(pattern,mail):\n",
    "        return 1\n",
    "    else:\n",
    "        return 0\n",
    "email(\"sukanya5499@gmail.com\")"
   ]
  },
  {
   "cell_type": "markdown",
   "metadata": {},
   "source": [
    "# dictionary"
   ]
  },
  {
   "cell_type": "code",
   "execution_count": 1,
   "metadata": {},
   "outputs": [
    {
     "ename": "SyntaxError",
     "evalue": "unexpected EOF while parsing (<ipython-input-1-b70d0b60d65c>, line 1)",
     "output_type": "error",
     "traceback": [
      "\u001b[1;36m  File \u001b[1;32m\"<ipython-input-1-b70d0b60d65c>\"\u001b[1;36m, line \u001b[1;32m1\u001b[0m\n\u001b[1;33m    d={\"kanya\":[9978302546,somula5499@gmail.com],\"chitti\":[\"+919978023401\",\"chitti12@gmail.com\"],\"divya\":[\"9987564320\",\"divya67@gmail.info\"]\u001b[0m\n\u001b[1;37m                                                                                                                                            ^\u001b[0m\n\u001b[1;31mSyntaxError\u001b[0m\u001b[1;31m:\u001b[0m unexpected EOF while parsing\n"
     ]
    }
   ],
   "source": [
    "d={\"kanya\":[9978302546,somula5499@gmail.com],\"chitti\":[\"+919978023401\",\"chitti12@gmail.com\"],\"divya\":[\"9987564320\",\"divya67@gmail.info\"]"
   ]
  },
  {
   "cell_type": "code",
   "execution_count": null,
   "metadata": {},
   "outputs": [],
   "source": []
  }
 ],
 "metadata": {
  "kernelspec": {
   "display_name": "Python 3",
   "language": "python",
   "name": "python3"
  },
  "language_info": {
   "codemirror_mode": {
    "name": "ipython",
    "version": 3
   },
   "file_extension": ".py",
   "mimetype": "text/x-python",
   "name": "python",
   "nbconvert_exporter": "python",
   "pygments_lexer": "ipython3",
   "version": "3.7.3"
  }
 },
 "nbformat": 4,
 "nbformat_minor": 2
}
